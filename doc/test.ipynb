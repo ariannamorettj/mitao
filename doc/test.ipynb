{
 "cells": [
  {
   "cell_type": "code",
   "execution_count": null,
   "metadata": {},
   "outputs": [],
   "source": [
    "import pdftotext\n",
    "\n",
    "# Load your PDF\n",
    "with open(\"../src/data/tool/test.pdf\", \"rb\") as f:\n",
    "    pdf = pdftotext.PDF(f)\n",
    "\n",
    "# How many pages?\n",
    "print(len(pdf))\n",
    "\n",
    "# Iterate over all the pages\n",
    "for page in pdf:\n",
    "    print(page)\n",
    "\n",
    "# Read some individual pages\n",
    "print(pdf[0])\n",
    "print(pdf[1])\n",
    "\n",
    "# Read all the text into one string\n",
    "print(\"\\n\\n\".join(pdf))"
   ]
  },
  {
   "cell_type": "code",
   "execution_count": null,
   "metadata": {},
   "outputs": [],
   "source": [
    "\" \".join(pdf)"
   ]
  },
  {
   "cell_type": "code",
   "execution_count": null,
   "metadata": {},
   "outputs": [],
   "source": [
    "from pdfminer.pdfinterp import PDFResourceManager, PDFPageInterpreter\n",
    "from pdfminer.converter import TextConverter\n",
    "from pdfminer.layout import LAParams\n",
    "from pdfminer.pdfpage import PDFPage\n",
    "from io import BytesIO\n",
    "\n",
    "def pdf_to_text(path):\n",
    "    manager = PDFResourceManager()\n",
    "    retstr = BytesIO()\n",
    "    layout = LAParams(all_texts=True)\n",
    "    device = TextConverter(manager, retstr, laparams=layout)\n",
    "    filepath = open(path, 'rb')\n",
    "    interpreter = PDFPageInterpreter(manager, device)\n",
    "\n",
    "    for page in PDFPage.get_pages(filepath, check_extractable=True):\n",
    "        interpreter.process_page(page)\n",
    "\n",
    "    text = retstr.getvalue()\n",
    "\n",
    "    filepath.close()\n",
    "    device.close()\n",
    "    retstr.close()\n",
    "    return text\n",
    "\n",
    "\n",
    "if __name__ == \"__main__\":\n",
    "    text = pdf_to_text(\"../src/data/tool/test.pdf\")\n",
    "    print(text)"
   ]
  },
  {
   "cell_type": "code",
   "execution_count": null,
   "metadata": {},
   "outputs": [],
   "source": [
    "import re\n",
    "documents = {}\n",
    "#documents[\"d1\"] = open(\"../src/data/corpus/AH_1996_001.txt\",\"r\", encoding='utf-8', errors='ignore').read()\n",
    "documents[\"d2\"] = open(\"../src/data/corpus/AH_1996_002.txt\",\"r\", encoding='utf-8', errors='ignore').read()\n",
    "    \n",
    "REGEX_list = [\n",
    "    \"^References\"\n",
    "]\n",
    "d_filtered = {}\n",
    "for doc_k in documents:\n",
    "    doc_val = documents[doc_k]\n",
    "    doc_arr = doc_val.split(\"\\n\")\n",
    "    reg_row_index = 0\n",
    "    for row in doc_arr:\n",
    "        for d_reg_i in REGEX_list:\n",
    "            matches = re.match(d_reg_i,row)\n",
    "        if matches:\n",
    "            break\n",
    "        else:\n",
    "            reg_row_index = reg_row_index + 1\n",
    "    \n",
    "    fil_d = \"\"\n",
    "    if reg_row_index >= len(doc_arr) - 1:\n",
    "        fil_d = doc_val\n",
    "    else:\n",
    "        for row_index in range(0, reg_row_index):\n",
    "            if row_index == len(doc_arr) - 1:\n",
    "                fil_d = fil_d + doc_arr[row_index]\n",
    "            else:\n",
    "                fil_d = str(fil_d) + str(doc_arr[row_index]) + \"\\n\"\n",
    "    \n",
    "    d_filtered[doc_k] = fil_d\n",
    "\n",
    "    \n",
    "    \n",
    "    \n"
   ]
  },
  {
   "cell_type": "code",
   "execution_count": null,
   "metadata": {},
   "outputs": [],
   "source": [
    "    \n",
    "    d_filtered[doc_k] = doc_val"
   ]
  },
  {
   "cell_type": "code",
   "execution_count": null,
   "metadata": {},
   "outputs": [],
   "source": [
    "import webbrowser\n",
    "\n",
    "chrome_path = 'C:/Program Files (x86)/Google/Chrome/Application/chrome.exe %s' \n",
    "webbrowser.get(chrome_path).open(\"https://regex101.com/\")"
   ]
  },
  {
   "cell_type": "code",
   "execution_count": null,
   "metadata": {},
   "outputs": [],
   "source": [
    "# Python code to search .mp3 files in current \n",
    "# folder (We can change file type/name and path \n",
    "# according to the requirements. \n",
    "import os \n",
    "  \n",
    "# This is to get the directory that the program  \n",
    "# is currently running in. \n",
    "dir_path = os.path.dirname(os.path.abspath(os.sep)) \n",
    "  \n",
    "for root, dirs, files in os.walk(dir_path): \n",
    "    for file in files:  \n",
    "  \n",
    "        # change the extension from '.mp3' to  \n",
    "        # the one of your choice. \n",
    "        if file.startswith('chrome.exe'): \n",
    "            print(root+'/'+str(file))"
   ]
  },
  {
   "cell_type": "code",
   "execution_count": null,
   "metadata": {},
   "outputs": [],
   "source": [
    "from nltk.corpus import stopwords"
   ]
  },
  {
   "cell_type": "code",
   "execution_count": null,
   "metadata": {},
   "outputs": [],
   "source": [
    "p_stopwords = \"english\"\n",
    "stop = {\"accounting\"}\n",
    "if p_stopwords != \"none\":\n",
    "    pstopwords_set = set(stopwords.words(p_stopwords))\n",
    "    print(stop)\n",
    "    print(pstopwords_set)\n",
    "    stop = stop.union(pstopwords_set)"
   ]
  },
  {
   "cell_type": "code",
   "execution_count": null,
   "metadata": {},
   "outputs": [],
   "source": [
    "stop"
   ]
  },
  {
   "cell_type": "code",
   "execution_count": null,
   "metadata": {},
   "outputs": [],
   "source": [
    "stopwords.words(p_stopwords)"
   ]
  },
  {
   "cell_type": "code",
   "execution_count": null,
   "metadata": {},
   "outputs": [],
   "source": [
    "import re\n"
   ]
  },
  {
   "cell_type": "code",
   "execution_count": null,
   "metadata": {},
   "outputs": [],
   "source": [
    "a_regex = re.compile(r\"\\s\\w{1}\\s\")\n",
    "print(re.sub(a_regex,\" \", \"dsadsa  dsad d dsa .\"))"
   ]
  },
  {
   "cell_type": "code",
   "execution_count": null,
   "metadata": {},
   "outputs": [],
   "source": [
    "from tkinter import filedialog\n",
    "from tkinter import *\n",
    "\n",
    "def browse_button():\n",
    "    # Allow user to select a directory and store it in global var\n",
    "    # called folder_path\n",
    "    global folder_path\n",
    "    filename = filedialog.askdirectory()\n",
    "    folder_path.set(filename)\n",
    "    print(filename)\n",
    "\n",
    "\n",
    "root = Tk()\n",
    "folder_path = StringVar()\n",
    "lbl1 = Label(master=root,textvariable=folder_path)\n",
    "lbl1.grid(row=0, column=1)\n",
    "button2 = Button(text=\"Browse\", command=browse_button)\n",
    "button2.grid(row=0, column=3)\n",
    "\n",
    "mainloop()"
   ]
  },
  {
   "cell_type": "code",
   "execution_count": null,
   "metadata": {},
   "outputs": [],
   "source": [
    "from tkinter import *\n",
    "root = Tk()\n",
    "folder_path = StringVar()\n",
    "filename = filedialog.askdirectory()\n",
    "folder_path.set(filename)\n",
    "print(filename)\n"
   ]
  },
  {
   "cell_type": "code",
   "execution_count": null,
   "metadata": {},
   "outputs": [],
   "source": [
    "from tkinter import *\n",
    "from tkinter.filedialog import askopenfilename\n",
    "from tkinter.messagebox import showerror\n",
    "\n",
    "def load_file():\n",
    "    fname = askopenfilename(filetypes=((\"Template files\", \"*.tplate\"),\n",
    "                                           (\"HTML files\", \"*.html;*.htm\"),\n",
    "                                           (\"All files\", \"*.*\") ))"
   ]
  },
  {
   "cell_type": "code",
   "execution_count": null,
   "metadata": {},
   "outputs": [],
   "source": [
    "import tkinter\n",
    "from tkinter import filedialog\n",
    "\n",
    "root = tkinter.Tk()\n",
    "root.wm_withdraw() # this completely hides the root window\n",
    "# root.iconify() # this will move the root window to a minimized icon.\n",
    "\n",
    "def character_mentions():\n",
    "    filename = filedialog.askopenfilename()\n",
    "    print(filename)\n",
    "    root.destroy()\n",
    "\n",
    "character_mentions()\n",
    "\n",
    "root.mainloop()"
   ]
  },
  {
   "cell_type": "code",
   "execution_count": 13,
   "metadata": {},
   "outputs": [],
   "source": [
    "import re\n",
    "from urllib.parse import unquote\n",
    "def normalize_text(stringa):\n",
    "    return re.sub(r'(https?://\\S{1,})', lambda x: unquote(x.group()), stringa)\n"
   ]
  },
  {
   "cell_type": "code",
   "execution_count": 14,
   "metadata": {},
   "outputs": [
    {
     "data": {
      "text/plain": [
       "'stringa  dsakldm. asdmklaskm \\n http://byyb dsahbvdam .md.a,smm,.d,m /n dsakbjnmnbdsa https://books.google.de/books/about/العربي_الفلسطيني_كما.html?id=hygjzQEACAAJ&redir_esc=y'"
      ]
     },
     "execution_count": 14,
     "metadata": {},
     "output_type": "execute_result"
    }
   ],
   "source": [
    "normalize_text(\"stringa  dsakldm. asdmklaskm \\n http://byyb dsahbvdam .md.a,smm,.d,m /n dsakbjnmnbdsa https://books.google.de/books/about/%D8%A7%D9%84%D8%B9%D8%B1%D8%A8%D9%8A_%D8%A7%D9%84%D9%81%D9%84%D8%B3%D8%B7%D9%8A%D9%86%D9%8A_%D9%83%D9%85%D8%A7.html?id=hygjzQEACAAJ&redir_esc=y\")"
   ]
  },
  {
   "cell_type": "code",
   "execution_count": null,
   "metadata": {},
   "outputs": [],
   "source": [
    "normalize_text(\"stringa dsdsaz\")"
   ]
  },
  {
   "cell_type": "code",
   "execution_count": 1,
   "metadata": {},
   "outputs": [],
   "source": [
    "\n",
    "url = unquote(\"https://books.google.de/books/about/%D8%A7%D9%84%D8%B9%D8%B1%D8%A8%D9%8A_%D8%A7%D9%84%D9%81%D9%84%D8%B3%D8%B7%D9%8A%D9%86%D9%8A_%D9%83%D9%85%D8%A7.html?id=hygjzQEACAAJ&redir_esc=y\")"
   ]
  },
  {
   "cell_type": "code",
   "execution_count": 2,
   "metadata": {},
   "outputs": [
    {
     "data": {
      "text/plain": [
       "'https://books.google.de/books/about/العربي_الفلسطيني_كما.html?id=hygjzQEACAAJ&redir_esc=y'"
      ]
     },
     "execution_count": 2,
     "metadata": {},
     "output_type": "execute_result"
    }
   ],
   "source": [
    "url"
   ]
  },
  {
   "cell_type": "code",
   "execution_count": 3,
   "metadata": {},
   "outputs": [],
   "source": [
    "from nltk.stem.porter import *\n",
    "from collections import defaultdict\n",
    "\n",
    "vocab = set(['countri'])\n",
    "\n",
    "# Here porter stemmer, but can be any other stemmer too\n",
    "stemmer = PorterStemmer()\n",
    "\n",
    "d = defaultdict(set)\n",
    "for v in vocab:\n",
    "    d[stemmer.stem(v)].add(v)  "
   ]
  },
  {
   "cell_type": "code",
   "execution_count": 5,
   "metadata": {},
   "outputs": [
    {
     "name": "stdout",
     "output_type": "stream",
     "text": [
      "{'countri'}\n"
     ]
    }
   ],
   "source": [
    "print(d['countri'])"
   ]
  },
  {
   "cell_type": "code",
   "execution_count": 8,
   "metadata": {},
   "outputs": [
    {
     "name": "stdout",
     "output_type": "stream",
     "text": [
      "@context\n",
      "@id\n",
      "@type\n",
      "o:id\n",
      "o:is_public\n",
      "o:owner\n",
      "o:resource_class\n",
      "o:resource_template\n",
      "o:thumbnail\n",
      "o:title\n",
      "o:created\n",
      "o:modified\n",
      "o:media\n",
      "o:item_set\n",
      "wd:P2561\n",
      "pr:organisation-type\n",
      "wd:P17\n",
      "wd:P580\n"
     ]
    }
   ],
   "source": [
    "uploadeddict_items = [('@context', 'http://137.204.168.11/palread/api-context'), ('@id', 'http://137.204.168.11/palread/api/items/20521'), ('@type', ['o:Item', 'wd:Q43229']), ('o:id', 20521), ('o:is_public', True), ('o:owner', {'@id': 'http://137.204.168.11/palread/api/users/1', 'o:id': 1}), ('o:resource_class', {'@id': 'http://137.204.168.11/palread/api/resource_classes/114', 'o:id': 114}), ('o:resource_template', {'@id': 'http://137.204.168.11/palread/api/resource_templates/7', 'o:id': 7}), ('o:thumbnail', None), ('o:title', 'Palestinian National Authority'), ('o:created', {'@value': '2020-07-17T10:35:54+00:00', '@type': 'http://www.w3.org/2001/XMLSchema#dateTime'}), ('o:modified', {'@value': '2020-07-17T11:16:09+00:00', '@type': 'http://www.w3.org/2001/XMLSchema#dateTime'}), ('o:media', []), ('o:item_set', [{'@id': 'http://137.204.168.11/palread/api/item_sets/1', 'o:id': 1}]), ('wd:P2561', [{'type': 'literal', 'property_id': 303, 'property_label': 'name', 'is_public': True, '@value': 'Palestinian National Authority', '@language': 'en'}]), ('pr:organisation-type', [{'type': 'customvocab:11', 'property_id': 257, 'property_label': 'organisation type', 'is_public': True, '@value': 'Government Organization'}]), ('wd:P17', [{'type': 'valuesuggest:geonames:geonames', 'property_id': 296, 'property_label': 'country', 'is_public': True, '@id': 'https://www.geonames.org/6254930', 'o:label': 'Palestine'}]), ('wd:P580', [{'type': 'literal', 'property_id': 307, 'property_label': 'from year or date', 'is_public': True, '@value': '1994'}])]\n",
    "\n",
    "for k,v in uploadeddict_items:\n",
    "    print(k)"
   ]
  },
  {
   "cell_type": "code",
   "execution_count": 9,
   "metadata": {},
   "outputs": [],
   "source": [
    "def clean_file_name(f_path):\n",
    "            clean_index = f_path\n",
    "            #Remove extension\n",
    "            for i in reversed(range(len(clean_index))):\n",
    "                if clean_index[i] == \".\":\n",
    "                    clean_index = clean_index[:i]\n",
    "                    break\n",
    "            #Remove path to file\n",
    "            for i in reversed(range(len(clean_index))):\n",
    "                if \"/\" in clean_index[i] or \"\\\\\" in clean_index[i]:\n",
    "                    clean_index = clean_index[i+1:]\n",
    "                    break\n",
    "            return clean_index"
   ]
  },
  {
   "cell_type": "code",
   "execution_count": 15,
   "metadata": {},
   "outputs": [
    {
     "name": "stdout",
     "output_type": "stream",
     "text": [
      "10.34244523\n"
     ]
    }
   ],
   "source": [
    "print(clean_file_name(\"dsada/10.34244523.txt\"))"
   ]
  },
  {
   "cell_type": "code",
   "execution_count": null,
   "metadata": {},
   "outputs": [],
   "source": []
  }
 ],
 "metadata": {
  "kernelspec": {
   "display_name": "Python 3",
   "language": "python",
   "name": "python3"
  },
  "language_info": {
   "codemirror_mode": {
    "name": "ipython",
    "version": 3
   },
   "file_extension": ".py",
   "mimetype": "text/x-python",
   "name": "python",
   "nbconvert_exporter": "python",
   "pygments_lexer": "ipython3",
   "version": "3.8.2"
  }
 },
 "nbformat": 4,
 "nbformat_minor": 2
}
